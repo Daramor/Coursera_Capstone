{
 "cells": [
  {
   "cell_type": "markdown",
   "metadata": {},
   "source": [
    "Problem is that game companies are not really sure which type of games, where and how to market their products. Such companies need information about the market and how to deal with it, I'm providing such data and segmentation, because it's more obvious to choose your target audience when you know their needs.\n",
    "\n",
    "I need Foursquare to put markets on the world map and show which country represents interests in secondary parameters which affect human choice in games.\n",
    "\n",
    "I will use prepared data set that I have made by myself, all information is confirmed with links. That data consists of separated people with counties, age, sex and other parameters. According to polls we get information about yes/no interest in secondary life sides (pets, appearance, friends, achievements, PvP and etc.). Also it includes marketing research about country dissemination tools(TV, radio, Internet and so on). All this data is in Excel file.\n",
    "Using all these tools and data I can segment the countries due to their way of living which affects game choice and I guess such information would be really important to every company when they are launching a new game and choose a county for it."
   ]
  }
 ],
 "metadata": {
  "kernelspec": {
   "display_name": "Python",
   "language": "python",
   "name": "conda-env-python-py"
  },
  "language_info": {
   "codemirror_mode": {
    "name": "ipython",
    "version": 3
   },
   "file_extension": ".py",
   "mimetype": "text/x-python",
   "name": "python",
   "nbconvert_exporter": "python",
   "pygments_lexer": "ipython3",
   "version": "3.6.7"
  }
 },
 "nbformat": 4,
 "nbformat_minor": 4
}
